{
 "cells": [
  {
   "cell_type": "code",
   "execution_count": 1,
   "metadata": {},
   "outputs": [],
   "source": [
    "import sys\n",
    "sys.path.append('..')\n",
    "import numpy as np\n",
    "import pandas as pd\n",
    "from virtualscada.vs import removeRows\n",
    "from virtualscada.vs import fillValuesLRInverse\n",
    "import matplotlib.pyplot as plt\n",
    "import random\n",
    "from sklearn.linear_model import LinearRegression\n",
    "\n",
    "%matplotlib inline"
   ]
  },
  {
   "cell_type": "markdown",
   "metadata": {},
   "source": [
    "# Data Processing\n",
    "\n",
    "First we add some data to our project. In this| sample we get rid of 30% of rows, removing a column in a given row with probability 50%."
   ]
  },
  {
   "cell_type": "code",
   "execution_count": 2,
   "metadata": {},
   "outputs": [],
   "source": [
    "p = pd.read_csv('C:/Users/Serhan/PycharmProjects/virtual-scada/Data/output_p.csv', header = None)\n",
    "q = pd.read_csv('C:/Users/Serhan/PycharmProjects/virtual-scada/Data/output_q.csv', header = None)\n",
    "v = pd.read_csv('C:/Users/Serhan/PycharmProjects/virtual-scada/Data/output_v.csv', header = None)\n",
    "a = pd.read_csv('C:/Users/Serhan/PycharmProjects/virtual-scada/Data/output_a.csv', header = None)"
   ]
  },
  {
   "cell_type": "code",
   "execution_count": 4,
   "metadata": {},
   "outputs": [
    {
     "name": "stderr",
     "output_type": "stream",
     "text": [
      "..\\virtualscada\\vs.py:46: SettingWithCopyWarning: \n",
      "A value is trying to be set on a copy of a slice from a DataFrame\n",
      "\n",
      "See the caveats in the documentation: http://pandas.pydata.org/pandas-docs/stable/indexing.html#indexing-view-versus-copy\n",
      "  dataRemoved[i][j] = None\n"
     ]
    }
   ],
   "source": [
    "vRemoved = removeRows(v, .3, colPercentage = .5)\n",
    "aRemoved = removeRows(a, .3, colPercentage = .5)"
   ]
  },
  {
   "cell_type": "markdown",
   "metadata": {},
   "source": [
    "# Virtual SCADA\n",
    "\n",
    "Then we fill in our missing values. Our code takes in the fixed real power, reactive power, voltage, and phase angle and fills in the missing values using linear regression trained on the supplied data.  "
   ]
  },
  {
   "cell_type": "code",
   "execution_count": 5,
   "metadata": {},
   "outputs": [
    {
     "ename": "NameError",
     "evalue": "name 'fillValuesLRFInverse' is not defined",
     "output_type": "error",
     "traceback": [
      "\u001b[1;31m---------------------------------------------------------------------------\u001b[0m",
      "\u001b[1;31mNameError\u001b[0m                                 Traceback (most recent call last)",
      "\u001b[1;32m<ipython-input-5-a618ff1ae8bb>\u001b[0m in \u001b[0;36m<module>\u001b[1;34m\u001b[0m\n\u001b[1;32m----> 1\u001b[1;33m \u001b[0mpFilled\u001b[0m\u001b[1;33m,\u001b[0m \u001b[0mqFilled\u001b[0m \u001b[1;33m=\u001b[0m \u001b[0mfillValuesLRFInverse\u001b[0m\u001b[1;33m(\u001b[0m\u001b[0mpRemoved\u001b[0m\u001b[1;33m,\u001b[0m \u001b[0mqRemoved\u001b[0m\u001b[1;33m,\u001b[0m \u001b[0mv\u001b[0m\u001b[1;33m,\u001b[0m \u001b[0ma\u001b[0m\u001b[1;33m)\u001b[0m\u001b[1;33m\u001b[0m\u001b[1;33m\u001b[0m\u001b[0m\n\u001b[0m",
      "\u001b[1;31mNameError\u001b[0m: name 'fillValuesLRFInverse' is not defined"
     ]
    }
   ],
   "source": [
    "vFilled, aFilled = fillValuesLRFInverse(p, q, vRemoved, aRemoved)"
   ]
  },
  {
   "cell_type": "markdown",
   "metadata": {},
   "source": [
    "# Results\n",
    "\n",
    "Now we look at the results of our filling. The following code manually computes the RMSE of our fill by comparing it with the values we removed at the first step. "
   ]
  },
  {
   "cell_type": "code",
   "execution_count": null,
   "metadata": {},
   "outputs": [],
   "source": [
    "numRows, numCols = v.shape\n",
    "predictions = []\n",
    "actuals = []\n",
    "for i in range(numCols):\n",
    "    for j in range(numRows):\n",
    "        if np.isnan(vRemoved[i][j]):\n",
    "            predictions.append(vFilled[i][j])\n",
    "            actuals.append(v[i][j])\n",
    "                \n",
    "print(np.sqrt(np.nanmean((np.array(predictions)-np.array(actuals))**2)))"
   ]
  },
  {
   "cell_type": "markdown",
   "metadata": {},
   "source": [
    "Here is a plot of the results. The first plot is the actual voltage, the second is the voltage after being filled, and the third plot is the plot of the voltage with the missing values."
   ]
  },
  {
   "cell_type": "code",
   "execution_count": null,
   "metadata": {
    "scrolled": true
   },
   "outputs": [],
   "source": [
    "sampleBus = np.random.randint(0,29)\n",
    "\n",
    "plt.figure(figsize=(10, 11))\n",
    "plt.subplot(221)\n",
    "plt.plot(v[sampleBus][0:50])\n",
    "plt.title('Actual Voltage')\n",
    "plt.xlabel('Time Stamp [unit]')\n",
    "plt.ylabel('Voltage Magnitude')\n",
    "plt.subplot(222)\n",
    "plt.plot(vFilled[sampleBus][0:50])\n",
    "plt.title('Filled in Voltage')\n",
    "plt.xlabel('Time Stamp [unit]')\n",
    "plt.ylabel('Voltage Magnitude')\n",
    "plt.subplot(223)\n",
    "plt.plot(vRemoved[sampleBus][0:50])\n",
    "plt.title('MissingVoltage')\n",
    "plt.xlabel('Time Stamp [unit]')\n",
    "plt.ylabel('Voltage Magnitude')"
   ]
  },
  {
   "cell_type": "code",
   "execution_count": null,
   "metadata": {},
   "outputs": [],
   "source": []
  },
  {
   "cell_type": "code",
   "execution_count": null,
   "metadata": {},
   "outputs": [],
   "source": []
  },
  {
   "cell_type": "code",
   "execution_count": null,
   "metadata": {},
   "outputs": [],
   "source": []
  }
 ],
 "metadata": {
  "kernelspec": {
   "display_name": "Python 3",
   "language": "python",
   "name": "python3"
  },
  "language_info": {
   "codemirror_mode": {
    "name": "ipython",
    "version": 3
   },
   "file_extension": ".py",
   "mimetype": "text/x-python",
   "name": "python",
   "nbconvert_exporter": "python",
   "pygments_lexer": "ipython3",
   "version": "3.7.3"
  }
 },
 "nbformat": 4,
 "nbformat_minor": 2
}
